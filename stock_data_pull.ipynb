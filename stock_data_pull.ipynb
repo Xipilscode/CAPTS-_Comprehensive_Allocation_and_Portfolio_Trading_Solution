{
 "cells": [
  {
   "cell_type": "code",
   "execution_count": 1,
   "id": "03d39451-0d81-4ad3-958c-15fb32e52feb",
   "metadata": {},
   "outputs": [],
   "source": [
    "import pandas as pd\n",
    "import yfinance as yf\n",
    "\n",
    "# import packages"
   ]
  },
  {
   "cell_type": "code",
   "execution_count": 2,
   "id": "008c4b0b-e2ec-4a1b-855b-7d9ba121f48c",
   "metadata": {},
   "outputs": [],
   "source": [
    "tickers = ['SPG','AMD', 'JPM','BAC','TSLA','F','BNB','WEN','O','QYLD']\n",
    "# list of tickers to use\n",
    "# not sure how to pick an indefinite number of tickers to choose from"
   ]
  },
  {
   "cell_type": "code",
   "execution_count": 3,
   "id": "d6b4dd67-2750-4271-a246-7e513289a340",
   "metadata": {},
   "outputs": [],
   "source": [
    "stock_data = pd.DataFrame()\n",
    "# empty dataframe to store data"
   ]
  },
  {
   "cell_type": "code",
   "execution_count": 4,
   "id": "d8bd6acd-c860-4ce0-a8f5-2d52b16e0e4e",
   "metadata": {},
   "outputs": [],
   "source": [
    "for t in tickers:\n",
    "    stock_data[t] = yf.Ticker(t).history(period='5y')['Close'].round(2)\n",
    "\n",
    "# for loop to request ticker closing history, rounded 2 dec"
   ]
  },
  {
   "cell_type": "code",
   "execution_count": 5,
   "id": "a892c70d-7a13-41cc-977d-e1c6a827d20b",
   "metadata": {},
   "outputs": [
    {
     "data": {
      "text/html": [
       "<div>\n",
       "<style scoped>\n",
       "    .dataframe tbody tr th:only-of-type {\n",
       "        vertical-align: middle;\n",
       "    }\n",
       "\n",
       "    .dataframe tbody tr th {\n",
       "        vertical-align: top;\n",
       "    }\n",
       "\n",
       "    .dataframe thead th {\n",
       "        text-align: right;\n",
       "    }\n",
       "</style>\n",
       "<table border=\"1\" class=\"dataframe\">\n",
       "  <thead>\n",
       "    <tr style=\"text-align: right;\">\n",
       "      <th></th>\n",
       "      <th>SPG</th>\n",
       "      <th>AMD</th>\n",
       "      <th>JPM</th>\n",
       "      <th>BAC</th>\n",
       "      <th>TSLA</th>\n",
       "      <th>F</th>\n",
       "      <th>BNB</th>\n",
       "      <th>WEN</th>\n",
       "      <th>O</th>\n",
       "      <th>QYLD</th>\n",
       "    </tr>\n",
       "    <tr>\n",
       "      <th>Date</th>\n",
       "      <th></th>\n",
       "      <th></th>\n",
       "      <th></th>\n",
       "      <th></th>\n",
       "      <th></th>\n",
       "      <th></th>\n",
       "      <th></th>\n",
       "      <th></th>\n",
       "      <th></th>\n",
       "      <th></th>\n",
       "    </tr>\n",
       "  </thead>\n",
       "  <tbody>\n",
       "    <tr>\n",
       "      <th>2018-02-09 00:00:00-05:00</th>\n",
       "      <td>119.89</td>\n",
       "      <td>11.31</td>\n",
       "      <td>94.99</td>\n",
       "      <td>27.19</td>\n",
       "      <td>20.69</td>\n",
       "      <td>8.94</td>\n",
       "      <td>0.62</td>\n",
       "      <td>14.18</td>\n",
       "      <td>38.13</td>\n",
       "      <td>13.26</td>\n",
       "    </tr>\n",
       "    <tr>\n",
       "      <th>2018-02-12 00:00:00-05:00</th>\n",
       "      <td>119.59</td>\n",
       "      <td>11.68</td>\n",
       "      <td>96.45</td>\n",
       "      <td>27.90</td>\n",
       "      <td>21.05</td>\n",
       "      <td>9.09</td>\n",
       "      <td>0.62</td>\n",
       "      <td>14.24</td>\n",
       "      <td>37.96</td>\n",
       "      <td>13.50</td>\n",
       "    </tr>\n",
       "    <tr>\n",
       "      <th>2018-02-13 00:00:00-05:00</th>\n",
       "      <td>120.08</td>\n",
       "      <td>11.78</td>\n",
       "      <td>97.05</td>\n",
       "      <td>27.95</td>\n",
       "      <td>21.58</td>\n",
       "      <td>8.99</td>\n",
       "      <td>0.62</td>\n",
       "      <td>14.01</td>\n",
       "      <td>38.20</td>\n",
       "      <td>13.56</td>\n",
       "    </tr>\n",
       "    <tr>\n",
       "      <th>2018-02-14 00:00:00-05:00</th>\n",
       "      <td>119.00</td>\n",
       "      <td>12.20</td>\n",
       "      <td>99.29</td>\n",
       "      <td>28.69</td>\n",
       "      <td>21.49</td>\n",
       "      <td>9.12</td>\n",
       "      <td>0.61</td>\n",
       "      <td>14.26</td>\n",
       "      <td>37.51</td>\n",
       "      <td>13.81</td>\n",
       "    </tr>\n",
       "    <tr>\n",
       "      <th>2018-02-15 00:00:00-05:00</th>\n",
       "      <td>120.59</td>\n",
       "      <td>12.19</td>\n",
       "      <td>99.71</td>\n",
       "      <td>28.88</td>\n",
       "      <td>22.27</td>\n",
       "      <td>9.14</td>\n",
       "      <td>0.59</td>\n",
       "      <td>14.22</td>\n",
       "      <td>38.43</td>\n",
       "      <td>13.99</td>\n",
       "    </tr>\n",
       "  </tbody>\n",
       "</table>\n",
       "</div>"
      ],
      "text/plain": [
       "                              SPG    AMD    JPM    BAC   TSLA     F   BNB  \\\n",
       "Date                                                                        \n",
       "2018-02-09 00:00:00-05:00  119.89  11.31  94.99  27.19  20.69  8.94  0.62   \n",
       "2018-02-12 00:00:00-05:00  119.59  11.68  96.45  27.90  21.05  9.09  0.62   \n",
       "2018-02-13 00:00:00-05:00  120.08  11.78  97.05  27.95  21.58  8.99  0.62   \n",
       "2018-02-14 00:00:00-05:00  119.00  12.20  99.29  28.69  21.49  9.12  0.61   \n",
       "2018-02-15 00:00:00-05:00  120.59  12.19  99.71  28.88  22.27  9.14  0.59   \n",
       "\n",
       "                             WEN      O   QYLD  \n",
       "Date                                            \n",
       "2018-02-09 00:00:00-05:00  14.18  38.13  13.26  \n",
       "2018-02-12 00:00:00-05:00  14.24  37.96  13.50  \n",
       "2018-02-13 00:00:00-05:00  14.01  38.20  13.56  \n",
       "2018-02-14 00:00:00-05:00  14.26  37.51  13.81  \n",
       "2018-02-15 00:00:00-05:00  14.22  38.43  13.99  "
      ]
     },
     "execution_count": 5,
     "metadata": {},
     "output_type": "execute_result"
    }
   ],
   "source": [
    "stock_data.head(5)"
   ]
  },
  {
   "cell_type": "code",
   "execution_count": null,
   "id": "7dada178-cc6d-4214-8350-cc60e531f4a9",
   "metadata": {},
   "outputs": [],
   "source": [
    "stock_data.to_csv('stock_data.csv')\n",
    "stock_data.to_json('stock_data.json')"
   ]
  },
  {
   "cell_type": "code",
   "execution_count": 6,
   "id": "612f4a09-aadc-4b5a-b398-3cd371a4ce7a",
   "metadata": {},
   "outputs": [],
   "source": [
    "# spg = yf.Ticker(\"SPG\")\n",
    "\n",
    "# data = spg.history(period='5y')\n",
    "\n",
    "# data\n"
   ]
  },
  {
   "cell_type": "code",
   "execution_count": 7,
   "id": "0731e926-c2df-4852-bace-51896083bbf3",
   "metadata": {},
   "outputs": [],
   "source": [
    "# df= data.iloc[:,3]\n",
    "\n",
    "# df"
   ]
  },
  {
   "cell_type": "code",
   "execution_count": 8,
   "id": "5da8416f-cf2f-4682-9812-7f07feea8086",
   "metadata": {},
   "outputs": [],
   "source": [
    "# df.to_csv('SPG.csv')\n",
    "# df.to_json('SPG.json')\n"
   ]
  },
  {
   "cell_type": "code",
   "execution_count": null,
   "id": "3dae1426-0a7a-4fbf-86e5-782e8f3550f2",
   "metadata": {},
   "outputs": [],
   "source": []
  }
 ],
 "metadata": {
  "kernelspec": {
   "display_name": "Python 3 (ipykernel)",
   "language": "python",
   "name": "python3"
  },
  "language_info": {
   "codemirror_mode": {
    "name": "ipython",
    "version": 3
   },
   "file_extension": ".py",
   "mimetype": "text/x-python",
   "name": "python",
   "nbconvert_exporter": "python",
   "pygments_lexer": "ipython3",
   "version": "3.9.13"
  }
 },
 "nbformat": 4,
 "nbformat_minor": 5
}
