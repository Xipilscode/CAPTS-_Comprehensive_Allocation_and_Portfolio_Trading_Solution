{
 "cells": [
  {
   "cell_type": "markdown",
   "id": "efa5d4df-235c-4299-877d-72a1ca7ec610",
   "metadata": {
    "tags": []
   },
   "source": [
    "## Importing Required Libraries and dependencies.\n",
    "\n",
    "\n"
   ]
  },
  {
   "cell_type": "code",
   "execution_count": 4,
   "id": "3ebcd006-21df-4632-a62c-ab0075ab288c",
   "metadata": {
    "tags": []
   },
   "outputs": [
    {
     "ename": "ImportError",
     "evalue": "dlopen(/Users/lexx/opt/anaconda3/envs/dev/lib/python3.7/site-packages/pyarrow/lib.cpython-37m-darwin.so, 2): Symbol not found: _SSLCopyALPNProtocols\n  Referenced from: /Users/lexx/opt/anaconda3/envs/dev/lib/python3.7/site-packages/pyarrow/libarrow.1000.dylib\n  Expected in: /System/Library/Frameworks/Security.framework/Versions/A/Security\n in /Users/lexx/opt/anaconda3/envs/dev/lib/python3.7/site-packages/pyarrow/libarrow.1000.dylib",
     "output_type": "error",
     "traceback": [
      "\u001b[0;31m---------------------------------------------------------------------------\u001b[0m",
      "\u001b[0;31mImportError\u001b[0m                               Traceback (most recent call last)",
      "\u001b[0;32m/var/folders/7h/1q9gbj7s4g9b2hhl1tsn9qq00000gn/T/ipykernel_11390/2545607763.py\u001b[0m in \u001b[0;36m<module>\u001b[0;34m\u001b[0m\n\u001b[1;32m      5\u001b[0m \u001b[0;32mimport\u001b[0m \u001b[0mnumpy\u001b[0m \u001b[0;32mas\u001b[0m \u001b[0mnp\u001b[0m\u001b[0;34m\u001b[0m\u001b[0;34m\u001b[0m\u001b[0m\n\u001b[1;32m      6\u001b[0m \u001b[0;32mimport\u001b[0m \u001b[0msqlite3\u001b[0m\u001b[0;34m\u001b[0m\u001b[0;34m\u001b[0m\u001b[0m\n\u001b[0;32m----> 7\u001b[0;31m \u001b[0;32mimport\u001b[0m \u001b[0mstreamlit\u001b[0m \u001b[0;32mas\u001b[0m \u001b[0mst\u001b[0m\u001b[0;34m\u001b[0m\u001b[0;34m\u001b[0m\u001b[0m\n\u001b[0m",
      "\u001b[0;32m~/opt/anaconda3/envs/dev/lib/python3.7/site-packages/streamlit/__init__.py\u001b[0m in \u001b[0;36m<module>\u001b[0;34m\u001b[0m\n\u001b[1;32m     53\u001b[0m \u001b[0m__version__\u001b[0m \u001b[0;34m=\u001b[0m \u001b[0m_STREAMLIT_VERSION_STRING\u001b[0m\u001b[0;34m\u001b[0m\u001b[0;34m\u001b[0m\u001b[0m\n\u001b[1;32m     54\u001b[0m \u001b[0;34m\u001b[0m\u001b[0m\n\u001b[0;32m---> 55\u001b[0;31m \u001b[0;32mfrom\u001b[0m \u001b[0mstreamlit\u001b[0m\u001b[0;34m.\u001b[0m\u001b[0mdelta_generator\u001b[0m \u001b[0;32mimport\u001b[0m \u001b[0mDeltaGenerator\u001b[0m \u001b[0;32mas\u001b[0m \u001b[0m_DeltaGenerator\u001b[0m\u001b[0;34m\u001b[0m\u001b[0;34m\u001b[0m\u001b[0m\n\u001b[0m\u001b[1;32m     56\u001b[0m \u001b[0;32mfrom\u001b[0m \u001b[0mstreamlit\u001b[0m\u001b[0;34m.\u001b[0m\u001b[0mproto\u001b[0m\u001b[0;34m.\u001b[0m\u001b[0mRootContainer_pb2\u001b[0m \u001b[0;32mimport\u001b[0m \u001b[0mRootContainer\u001b[0m \u001b[0;32mas\u001b[0m \u001b[0m_RootContainer\u001b[0m\u001b[0;34m\u001b[0m\u001b[0;34m\u001b[0m\u001b[0m\n\u001b[1;32m     57\u001b[0m from streamlit.runtime.caching import (\n",
      "\u001b[0;32m~/opt/anaconda3/envs/dev/lib/python3.7/site-packages/streamlit/delta_generator.py\u001b[0m in \u001b[0;36m<module>\u001b[0;34m\u001b[0m\n\u001b[1;32m     36\u001b[0m \u001b[0;32mfrom\u001b[0m \u001b[0mtyping_extensions\u001b[0m \u001b[0;32mimport\u001b[0m \u001b[0mFinal\u001b[0m\u001b[0;34m,\u001b[0m \u001b[0mLiteral\u001b[0m\u001b[0;34m\u001b[0m\u001b[0;34m\u001b[0m\u001b[0m\n\u001b[1;32m     37\u001b[0m \u001b[0;34m\u001b[0m\u001b[0m\n\u001b[0;32m---> 38\u001b[0;31m \u001b[0;32mfrom\u001b[0m \u001b[0mstreamlit\u001b[0m \u001b[0;32mimport\u001b[0m \u001b[0mconfig\u001b[0m\u001b[0;34m,\u001b[0m \u001b[0mcursor\u001b[0m\u001b[0;34m,\u001b[0m \u001b[0menv_util\u001b[0m\u001b[0;34m,\u001b[0m \u001b[0mlogger\u001b[0m\u001b[0;34m,\u001b[0m \u001b[0mruntime\u001b[0m\u001b[0;34m,\u001b[0m \u001b[0mtype_util\u001b[0m\u001b[0;34m,\u001b[0m \u001b[0mutil\u001b[0m\u001b[0;34m\u001b[0m\u001b[0;34m\u001b[0m\u001b[0m\n\u001b[0m\u001b[1;32m     39\u001b[0m \u001b[0;32mfrom\u001b[0m \u001b[0mstreamlit\u001b[0m\u001b[0;34m.\u001b[0m\u001b[0mcursor\u001b[0m \u001b[0;32mimport\u001b[0m \u001b[0mCursor\u001b[0m\u001b[0;34m\u001b[0m\u001b[0;34m\u001b[0m\u001b[0m\n\u001b[1;32m     40\u001b[0m \u001b[0;32mfrom\u001b[0m \u001b[0mstreamlit\u001b[0m\u001b[0;34m.\u001b[0m\u001b[0melements\u001b[0m\u001b[0;34m.\u001b[0m\u001b[0malert\u001b[0m \u001b[0;32mimport\u001b[0m \u001b[0mAlertMixin\u001b[0m\u001b[0;34m\u001b[0m\u001b[0;34m\u001b[0m\u001b[0m\n",
      "\u001b[0;32m~/opt/anaconda3/envs/dev/lib/python3.7/site-packages/streamlit/cursor.py\u001b[0m in \u001b[0;36m<module>\u001b[0;34m\u001b[0m\n\u001b[1;32m     16\u001b[0m \u001b[0;34m\u001b[0m\u001b[0m\n\u001b[1;32m     17\u001b[0m \u001b[0;32mfrom\u001b[0m \u001b[0mstreamlit\u001b[0m \u001b[0;32mimport\u001b[0m \u001b[0mutil\u001b[0m\u001b[0;34m\u001b[0m\u001b[0;34m\u001b[0m\u001b[0m\n\u001b[0;32m---> 18\u001b[0;31m \u001b[0;32mfrom\u001b[0m \u001b[0mstreamlit\u001b[0m\u001b[0;34m.\u001b[0m\u001b[0mruntime\u001b[0m\u001b[0;34m.\u001b[0m\u001b[0mscriptrunner\u001b[0m \u001b[0;32mimport\u001b[0m \u001b[0mget_script_run_ctx\u001b[0m\u001b[0;34m\u001b[0m\u001b[0;34m\u001b[0m\u001b[0m\n\u001b[0m\u001b[1;32m     19\u001b[0m \u001b[0;34m\u001b[0m\u001b[0m\n\u001b[1;32m     20\u001b[0m \u001b[0;34m\u001b[0m\u001b[0m\n",
      "\u001b[0;32m~/opt/anaconda3/envs/dev/lib/python3.7/site-packages/streamlit/runtime/__init__.py\u001b[0m in \u001b[0;36m<module>\u001b[0;34m\u001b[0m\n\u001b[1;32m     14\u001b[0m \u001b[0;34m\u001b[0m\u001b[0m\n\u001b[1;32m     15\u001b[0m \u001b[0;31m# Explicitly re-export public symbols from runtime.py\u001b[0m\u001b[0;34m\u001b[0m\u001b[0;34m\u001b[0m\u001b[0;34m\u001b[0m\u001b[0m\n\u001b[0;32m---> 16\u001b[0;31m \u001b[0;32mfrom\u001b[0m \u001b[0mstreamlit\u001b[0m\u001b[0;34m.\u001b[0m\u001b[0mruntime\u001b[0m\u001b[0;34m.\u001b[0m\u001b[0mruntime\u001b[0m \u001b[0;32mimport\u001b[0m \u001b[0mRuntime\u001b[0m \u001b[0;32mas\u001b[0m \u001b[0mRuntime\u001b[0m\u001b[0;34m\u001b[0m\u001b[0;34m\u001b[0m\u001b[0m\n\u001b[0m\u001b[1;32m     17\u001b[0m \u001b[0;32mfrom\u001b[0m \u001b[0mstreamlit\u001b[0m\u001b[0;34m.\u001b[0m\u001b[0mruntime\u001b[0m\u001b[0;34m.\u001b[0m\u001b[0mruntime\u001b[0m \u001b[0;32mimport\u001b[0m \u001b[0mRuntimeConfig\u001b[0m \u001b[0;32mas\u001b[0m \u001b[0mRuntimeConfig\u001b[0m\u001b[0;34m\u001b[0m\u001b[0;34m\u001b[0m\u001b[0m\n\u001b[1;32m     18\u001b[0m \u001b[0;32mfrom\u001b[0m \u001b[0mstreamlit\u001b[0m\u001b[0;34m.\u001b[0m\u001b[0mruntime\u001b[0m\u001b[0;34m.\u001b[0m\u001b[0mruntime\u001b[0m \u001b[0;32mimport\u001b[0m \u001b[0mRuntimeState\u001b[0m \u001b[0;32mas\u001b[0m \u001b[0mRuntimeState\u001b[0m\u001b[0;34m\u001b[0m\u001b[0;34m\u001b[0m\u001b[0m\n",
      "\u001b[0;32m~/opt/anaconda3/envs/dev/lib/python3.7/site-packages/streamlit/runtime/runtime.py\u001b[0m in \u001b[0;36m<module>\u001b[0;34m\u001b[0m\n\u001b[1;32m     26\u001b[0m \u001b[0;32mfrom\u001b[0m \u001b[0mstreamlit\u001b[0m\u001b[0;34m.\u001b[0m\u001b[0mproto\u001b[0m\u001b[0;34m.\u001b[0m\u001b[0mBackMsg_pb2\u001b[0m \u001b[0;32mimport\u001b[0m \u001b[0mBackMsg\u001b[0m\u001b[0;34m\u001b[0m\u001b[0;34m\u001b[0m\u001b[0m\n\u001b[1;32m     27\u001b[0m \u001b[0;32mfrom\u001b[0m \u001b[0mstreamlit\u001b[0m\u001b[0;34m.\u001b[0m\u001b[0mproto\u001b[0m\u001b[0;34m.\u001b[0m\u001b[0mForwardMsg_pb2\u001b[0m \u001b[0;32mimport\u001b[0m \u001b[0mForwardMsg\u001b[0m\u001b[0;34m\u001b[0m\u001b[0;34m\u001b[0m\u001b[0m\n\u001b[0;32m---> 28\u001b[0;31m \u001b[0;32mfrom\u001b[0m \u001b[0mstreamlit\u001b[0m\u001b[0;34m.\u001b[0m\u001b[0mruntime\u001b[0m\u001b[0;34m.\u001b[0m\u001b[0mapp_session\u001b[0m \u001b[0;32mimport\u001b[0m \u001b[0mAppSession\u001b[0m\u001b[0;34m\u001b[0m\u001b[0;34m\u001b[0m\u001b[0m\n\u001b[0m\u001b[1;32m     29\u001b[0m from streamlit.runtime.caching import (\n\u001b[1;32m     30\u001b[0m     \u001b[0mget_memo_stats_provider\u001b[0m\u001b[0;34m,\u001b[0m\u001b[0;34m\u001b[0m\u001b[0;34m\u001b[0m\u001b[0m\n",
      "\u001b[0;32m~/opt/anaconda3/envs/dev/lib/python3.7/site-packages/streamlit/runtime/app_session.py\u001b[0m in \u001b[0;36m<module>\u001b[0;34m\u001b[0m\n\u001b[1;32m     33\u001b[0m )\n\u001b[1;32m     34\u001b[0m \u001b[0;32mfrom\u001b[0m \u001b[0mstreamlit\u001b[0m\u001b[0;34m.\u001b[0m\u001b[0mproto\u001b[0m\u001b[0;34m.\u001b[0m\u001b[0mPagesChanged_pb2\u001b[0m \u001b[0;32mimport\u001b[0m \u001b[0mPagesChanged\u001b[0m\u001b[0;34m\u001b[0m\u001b[0;34m\u001b[0m\u001b[0m\n\u001b[0;32m---> 35\u001b[0;31m \u001b[0;32mfrom\u001b[0m \u001b[0mstreamlit\u001b[0m\u001b[0;34m.\u001b[0m\u001b[0mruntime\u001b[0m \u001b[0;32mimport\u001b[0m \u001b[0mcaching\u001b[0m\u001b[0;34m,\u001b[0m \u001b[0mlegacy_caching\u001b[0m\u001b[0;34m\u001b[0m\u001b[0;34m\u001b[0m\u001b[0m\n\u001b[0m\u001b[1;32m     36\u001b[0m \u001b[0;32mfrom\u001b[0m \u001b[0mstreamlit\u001b[0m\u001b[0;34m.\u001b[0m\u001b[0mruntime\u001b[0m\u001b[0;34m.\u001b[0m\u001b[0mcredentials\u001b[0m \u001b[0;32mimport\u001b[0m \u001b[0mCredentials\u001b[0m\u001b[0;34m\u001b[0m\u001b[0;34m\u001b[0m\u001b[0m\n\u001b[1;32m     37\u001b[0m \u001b[0;32mfrom\u001b[0m \u001b[0mstreamlit\u001b[0m\u001b[0;34m.\u001b[0m\u001b[0mruntime\u001b[0m\u001b[0;34m.\u001b[0m\u001b[0mforward_msg_queue\u001b[0m \u001b[0;32mimport\u001b[0m \u001b[0mForwardMsgQueue\u001b[0m\u001b[0;34m\u001b[0m\u001b[0;34m\u001b[0m\u001b[0m\n",
      "\u001b[0;32m~/opt/anaconda3/envs/dev/lib/python3.7/site-packages/streamlit/runtime/caching/__init__.py\u001b[0m in \u001b[0;36m<module>\u001b[0;34m\u001b[0m\n\u001b[1;32m     19\u001b[0m \u001b[0;34m\u001b[0m\u001b[0m\n\u001b[1;32m     20\u001b[0m \u001b[0;32mfrom\u001b[0m \u001b[0mstreamlit\u001b[0m\u001b[0;34m.\u001b[0m\u001b[0mproto\u001b[0m\u001b[0;34m.\u001b[0m\u001b[0mBlock_pb2\u001b[0m \u001b[0;32mimport\u001b[0m \u001b[0mBlock\u001b[0m\u001b[0;34m\u001b[0m\u001b[0;34m\u001b[0m\u001b[0m\n\u001b[0;32m---> 21\u001b[0;31m \u001b[0;32mfrom\u001b[0m \u001b[0mstreamlit\u001b[0m\u001b[0;34m.\u001b[0m\u001b[0mruntime\u001b[0m\u001b[0;34m.\u001b[0m\u001b[0mstate\u001b[0m\u001b[0;34m.\u001b[0m\u001b[0msession_state\u001b[0m \u001b[0;32mimport\u001b[0m \u001b[0mWidgetMetadata\u001b[0m\u001b[0;34m\u001b[0m\u001b[0;34m\u001b[0m\u001b[0m\n\u001b[0m\u001b[1;32m     22\u001b[0m \u001b[0;34m\u001b[0m\u001b[0m\n\u001b[1;32m     23\u001b[0m \u001b[0;32mif\u001b[0m \u001b[0mTYPE_CHECKING\u001b[0m\u001b[0;34m:\u001b[0m\u001b[0;34m\u001b[0m\u001b[0;34m\u001b[0m\u001b[0m\n",
      "\u001b[0;32m~/opt/anaconda3/envs/dev/lib/python3.7/site-packages/streamlit/runtime/state/__init__.py\u001b[0m in \u001b[0;36m<module>\u001b[0;34m\u001b[0m\n\u001b[1;32m     14\u001b[0m \u001b[0;34m\u001b[0m\u001b[0m\n\u001b[1;32m     15\u001b[0m \u001b[0;31m# Explicitly re-export public symbols\u001b[0m\u001b[0;34m\u001b[0m\u001b[0;34m\u001b[0m\u001b[0;34m\u001b[0m\u001b[0m\n\u001b[0;32m---> 16\u001b[0;31m from streamlit.runtime.state.safe_session_state import (\n\u001b[0m\u001b[1;32m     17\u001b[0m     \u001b[0mSafeSessionState\u001b[0m \u001b[0;32mas\u001b[0m \u001b[0mSafeSessionState\u001b[0m\u001b[0;34m,\u001b[0m\u001b[0;34m\u001b[0m\u001b[0;34m\u001b[0m\u001b[0m\n\u001b[1;32m     18\u001b[0m )\n",
      "\u001b[0;32m~/opt/anaconda3/envs/dev/lib/python3.7/site-packages/streamlit/runtime/state/safe_session_state.py\u001b[0m in \u001b[0;36m<module>\u001b[0;34m\u001b[0m\n\u001b[1;32m     18\u001b[0m \u001b[0;32mfrom\u001b[0m \u001b[0mstreamlit\u001b[0m\u001b[0;34m.\u001b[0m\u001b[0mproto\u001b[0m\u001b[0;34m.\u001b[0m\u001b[0mWidgetStates_pb2\u001b[0m \u001b[0;32mimport\u001b[0m \u001b[0mWidgetState\u001b[0m \u001b[0;32mas\u001b[0m \u001b[0mWidgetStateProto\u001b[0m\u001b[0;34m\u001b[0m\u001b[0;34m\u001b[0m\u001b[0m\n\u001b[1;32m     19\u001b[0m \u001b[0;32mfrom\u001b[0m \u001b[0mstreamlit\u001b[0m\u001b[0;34m.\u001b[0m\u001b[0mproto\u001b[0m\u001b[0;34m.\u001b[0m\u001b[0mWidgetStates_pb2\u001b[0m \u001b[0;32mimport\u001b[0m \u001b[0mWidgetStates\u001b[0m \u001b[0;32mas\u001b[0m \u001b[0mWidgetStatesProto\u001b[0m\u001b[0;34m\u001b[0m\u001b[0;34m\u001b[0m\u001b[0m\n\u001b[0;32m---> 20\u001b[0;31m from streamlit.runtime.state.session_state import (\n\u001b[0m\u001b[1;32m     21\u001b[0m     \u001b[0mRegisterWidgetResult\u001b[0m\u001b[0;34m,\u001b[0m\u001b[0;34m\u001b[0m\u001b[0;34m\u001b[0m\u001b[0m\n\u001b[1;32m     22\u001b[0m     \u001b[0mSessionState\u001b[0m\u001b[0;34m,\u001b[0m\u001b[0;34m\u001b[0m\u001b[0;34m\u001b[0m\u001b[0m\n",
      "\u001b[0;32m~/opt/anaconda3/envs/dev/lib/python3.7/site-packages/streamlit/runtime/state/session_state.py\u001b[0m in \u001b[0;36m<module>\u001b[0;34m\u001b[0m\n\u001b[1;32m     41\u001b[0m \u001b[0;32mfrom\u001b[0m \u001b[0mstreamlit\u001b[0m\u001b[0;34m.\u001b[0m\u001b[0mproto\u001b[0m\u001b[0;34m.\u001b[0m\u001b[0mWidgetStates_pb2\u001b[0m \u001b[0;32mimport\u001b[0m \u001b[0mWidgetStates\u001b[0m \u001b[0;32mas\u001b[0m \u001b[0mWidgetStatesProto\u001b[0m\u001b[0;34m\u001b[0m\u001b[0;34m\u001b[0m\u001b[0m\n\u001b[1;32m     42\u001b[0m \u001b[0;32mfrom\u001b[0m \u001b[0mstreamlit\u001b[0m\u001b[0;34m.\u001b[0m\u001b[0mruntime\u001b[0m\u001b[0;34m.\u001b[0m\u001b[0mstats\u001b[0m \u001b[0;32mimport\u001b[0m \u001b[0mCacheStat\u001b[0m\u001b[0;34m,\u001b[0m \u001b[0mCacheStatsProvider\u001b[0m\u001b[0;34m\u001b[0m\u001b[0;34m\u001b[0m\u001b[0m\n\u001b[0;32m---> 43\u001b[0;31m \u001b[0;32mfrom\u001b[0m \u001b[0mstreamlit\u001b[0m\u001b[0;34m.\u001b[0m\u001b[0mtype_util\u001b[0m \u001b[0;32mimport\u001b[0m \u001b[0mValueFieldName\u001b[0m\u001b[0;34m,\u001b[0m \u001b[0mis_array_value_field_name\u001b[0m\u001b[0;34m\u001b[0m\u001b[0;34m\u001b[0m\u001b[0m\n\u001b[0m\u001b[1;32m     44\u001b[0m \u001b[0;34m\u001b[0m\u001b[0m\n\u001b[1;32m     45\u001b[0m \u001b[0;32mif\u001b[0m \u001b[0mTYPE_CHECKING\u001b[0m\u001b[0;34m:\u001b[0m\u001b[0;34m\u001b[0m\u001b[0;34m\u001b[0m\u001b[0m\n",
      "\u001b[0;32m~/opt/anaconda3/envs/dev/lib/python3.7/site-packages/streamlit/type_util.py\u001b[0m in \u001b[0;36m<module>\u001b[0;34m\u001b[0m\n\u001b[1;32m     33\u001b[0m )\n\u001b[1;32m     34\u001b[0m \u001b[0;34m\u001b[0m\u001b[0m\n\u001b[0;32m---> 35\u001b[0;31m \u001b[0;32mimport\u001b[0m \u001b[0mpyarrow\u001b[0m \u001b[0;32mas\u001b[0m \u001b[0mpa\u001b[0m\u001b[0;34m\u001b[0m\u001b[0;34m\u001b[0m\u001b[0m\n\u001b[0m\u001b[1;32m     36\u001b[0m \u001b[0;32mfrom\u001b[0m \u001b[0mpandas\u001b[0m \u001b[0;32mimport\u001b[0m \u001b[0mMultiIndex\u001b[0m\u001b[0;34m\u001b[0m\u001b[0;34m\u001b[0m\u001b[0m\n\u001b[1;32m     37\u001b[0m \u001b[0;32mfrom\u001b[0m \u001b[0mpandas\u001b[0m\u001b[0;34m.\u001b[0m\u001b[0mapi\u001b[0m\u001b[0;34m.\u001b[0m\u001b[0mtypes\u001b[0m \u001b[0;32mimport\u001b[0m \u001b[0minfer_dtype\u001b[0m\u001b[0;34m\u001b[0m\u001b[0;34m\u001b[0m\u001b[0m\n",
      "\u001b[0;32m~/opt/anaconda3/envs/dev/lib/python3.7/site-packages/pyarrow/__init__.py\u001b[0m in \u001b[0;36m<module>\u001b[0;34m\u001b[0m\n\u001b[1;32m     63\u001b[0m \u001b[0m_gc_enabled\u001b[0m \u001b[0;34m=\u001b[0m \u001b[0m_gc\u001b[0m\u001b[0;34m.\u001b[0m\u001b[0misenabled\u001b[0m\u001b[0;34m(\u001b[0m\u001b[0;34m)\u001b[0m\u001b[0;34m\u001b[0m\u001b[0;34m\u001b[0m\u001b[0m\n\u001b[1;32m     64\u001b[0m \u001b[0m_gc\u001b[0m\u001b[0;34m.\u001b[0m\u001b[0mdisable\u001b[0m\u001b[0;34m(\u001b[0m\u001b[0;34m)\u001b[0m\u001b[0;34m\u001b[0m\u001b[0;34m\u001b[0m\u001b[0m\n\u001b[0;32m---> 65\u001b[0;31m \u001b[0;32mimport\u001b[0m \u001b[0mpyarrow\u001b[0m\u001b[0;34m.\u001b[0m\u001b[0mlib\u001b[0m \u001b[0;32mas\u001b[0m \u001b[0m_lib\u001b[0m\u001b[0;34m\u001b[0m\u001b[0;34m\u001b[0m\u001b[0m\n\u001b[0m\u001b[1;32m     66\u001b[0m \u001b[0;32mif\u001b[0m \u001b[0m_gc_enabled\u001b[0m\u001b[0;34m:\u001b[0m\u001b[0;34m\u001b[0m\u001b[0;34m\u001b[0m\u001b[0m\n\u001b[1;32m     67\u001b[0m     \u001b[0m_gc\u001b[0m\u001b[0;34m.\u001b[0m\u001b[0menable\u001b[0m\u001b[0;34m(\u001b[0m\u001b[0;34m)\u001b[0m\u001b[0;34m\u001b[0m\u001b[0;34m\u001b[0m\u001b[0m\n",
      "\u001b[0;31mImportError\u001b[0m: dlopen(/Users/lexx/opt/anaconda3/envs/dev/lib/python3.7/site-packages/pyarrow/lib.cpython-37m-darwin.so, 2): Symbol not found: _SSLCopyALPNProtocols\n  Referenced from: /Users/lexx/opt/anaconda3/envs/dev/lib/python3.7/site-packages/pyarrow/libarrow.1000.dylib\n  Expected in: /System/Library/Frameworks/Security.framework/Versions/A/Security\n in /Users/lexx/opt/anaconda3/envs/dev/lib/python3.7/site-packages/pyarrow/libarrow.1000.dylib"
     ]
    }
   ],
   "source": [
    "#Import nessesary modules\n",
    "import yfinance as yf\n",
    "import pandas as pd\n",
    "import json \n",
    "import numpy as np\n",
    "import sqlite3\n",
    "import streamlit as st"
   ]
  },
  {
   "cell_type": "code",
   "execution_count": 3,
   "id": "b35c3e04-1e68-49b1-a029-de2537226100",
   "metadata": {},
   "outputs": [
    {
     "name": "stdout",
     "output_type": "stream",
     "text": [
      "Requirement already satisfied: streamlit in /Users/lexx/opt/anaconda3/envs/dev/lib/python3.7/site-packages (1.17.0)\n",
      "Requirement already satisfied: pyarrow>=4.0 in /Users/lexx/opt/anaconda3/envs/dev/lib/python3.7/site-packages (from streamlit) (10.0.0.dev222)\n",
      "Requirement already satisfied: cachetools>=4.0 in /Users/lexx/opt/anaconda3/envs/dev/lib/python3.7/site-packages (from streamlit) (5.3.0)\n",
      "Requirement already satisfied: python-dateutil in /Users/lexx/opt/anaconda3/envs/dev/lib/python3.7/site-packages (from streamlit) (2.8.2)\n",
      "Requirement already satisfied: gitpython!=3.1.19 in /Users/lexx/opt/anaconda3/envs/dev/lib/python3.7/site-packages (from streamlit) (3.1.30)\n",
      "Requirement already satisfied: click>=7.0 in /Users/lexx/opt/anaconda3/envs/dev/lib/python3.7/site-packages (from streamlit) (8.0.4)\n",
      "Requirement already satisfied: packaging>=14.1 in /Users/lexx/opt/anaconda3/envs/dev/lib/python3.7/site-packages (from streamlit) (21.3)\n",
      "Requirement already satisfied: typing-extensions>=3.10.0.0 in /Users/lexx/opt/anaconda3/envs/dev/lib/python3.7/site-packages (from streamlit) (4.3.0)\n",
      "Requirement already satisfied: pillow>=6.2.0 in /Users/lexx/opt/anaconda3/envs/dev/lib/python3.7/site-packages (from streamlit) (9.2.0)\n",
      "Requirement already satisfied: tornado>=5.0 in /Users/lexx/opt/anaconda3/envs/dev/lib/python3.7/site-packages (from streamlit) (6.2)\n",
      "Requirement already satisfied: pandas>=0.21.0 in /Users/lexx/opt/anaconda3/envs/dev/lib/python3.7/site-packages (from streamlit) (1.3.5)\n",
      "Requirement already satisfied: toml in /Users/lexx/opt/anaconda3/envs/dev/lib/python3.7/site-packages (from streamlit) (0.10.2)\n",
      "Requirement already satisfied: blinker>=1.0.0 in /Users/lexx/opt/anaconda3/envs/dev/lib/python3.7/site-packages (from streamlit) (1.5)\n",
      "Requirement already satisfied: protobuf<4,>=3.12 in /Users/lexx/opt/anaconda3/envs/dev/lib/python3.7/site-packages (from streamlit) (3.20.3)\n",
      "Requirement already satisfied: altair>=3.2.0 in /Users/lexx/opt/anaconda3/envs/dev/lib/python3.7/site-packages (from streamlit) (4.2.2)\n",
      "Requirement already satisfied: requests>=2.4 in /Users/lexx/opt/anaconda3/envs/dev/lib/python3.7/site-packages (from streamlit) (2.28.1)\n",
      "Requirement already satisfied: pydeck>=0.1.dev5 in /Users/lexx/opt/anaconda3/envs/dev/lib/python3.7/site-packages (from streamlit) (0.8.0)\n",
      "Requirement already satisfied: importlib-metadata>=1.4 in /Users/lexx/opt/anaconda3/envs/dev/lib/python3.7/site-packages (from streamlit) (3.10.0)\n",
      "Requirement already satisfied: semver in /Users/lexx/opt/anaconda3/envs/dev/lib/python3.7/site-packages (from streamlit) (2.13.0)\n",
      "Requirement already satisfied: tzlocal>=1.1 in /Users/lexx/opt/anaconda3/envs/dev/lib/python3.7/site-packages (from streamlit) (4.2)\n",
      "Requirement already satisfied: numpy in /Users/lexx/opt/anaconda3/envs/dev/lib/python3.7/site-packages (from streamlit) (1.21.5)\n",
      "Requirement already satisfied: rich>=10.11.0 in /Users/lexx/opt/anaconda3/envs/dev/lib/python3.7/site-packages (from streamlit) (13.3.1)\n",
      "Requirement already satisfied: pympler>=0.9 in /Users/lexx/opt/anaconda3/envs/dev/lib/python3.7/site-packages (from streamlit) (1.0.1)\n",
      "Requirement already satisfied: validators>=0.2 in /Users/lexx/opt/anaconda3/envs/dev/lib/python3.7/site-packages (from streamlit) (0.20.0)\n",
      "Requirement already satisfied: toolz in /Users/lexx/opt/anaconda3/envs/dev/lib/python3.7/site-packages (from altair>=3.2.0->streamlit) (0.11.2)\n",
      "Requirement already satisfied: jinja2 in /Users/lexx/opt/anaconda3/envs/dev/lib/python3.7/site-packages (from altair>=3.2.0->streamlit) (2.11.3)\n",
      "Requirement already satisfied: jsonschema>=3.0 in /Users/lexx/opt/anaconda3/envs/dev/lib/python3.7/site-packages (from altair>=3.2.0->streamlit) (4.16.0)\n",
      "Requirement already satisfied: entrypoints in /Users/lexx/opt/anaconda3/envs/dev/lib/python3.7/site-packages (from altair>=3.2.0->streamlit) (0.4)\n",
      "Requirement already satisfied: gitdb<5,>=4.0.1 in /Users/lexx/opt/anaconda3/envs/dev/lib/python3.7/site-packages (from gitpython!=3.1.19->streamlit) (4.0.10)\n",
      "Requirement already satisfied: zipp>=0.5 in /Users/lexx/opt/anaconda3/envs/dev/lib/python3.7/site-packages (from importlib-metadata>=1.4->streamlit) (3.8.0)\n",
      "Requirement already satisfied: pyparsing!=3.0.5,>=2.0.2 in /Users/lexx/opt/anaconda3/envs/dev/lib/python3.7/site-packages (from packaging>=14.1->streamlit) (3.0.9)\n",
      "Requirement already satisfied: pytz>=2017.3 in /Users/lexx/opt/anaconda3/envs/dev/lib/python3.7/site-packages (from pandas>=0.21.0->streamlit) (2022.7.1)\n",
      "Requirement already satisfied: six>=1.5 in /Users/lexx/opt/anaconda3/envs/dev/lib/python3.7/site-packages (from python-dateutil->streamlit) (1.16.0)\n",
      "Requirement already satisfied: charset-normalizer<3,>=2 in /Users/lexx/opt/anaconda3/envs/dev/lib/python3.7/site-packages (from requests>=2.4->streamlit) (2.0.4)\n",
      "Requirement already satisfied: urllib3<1.27,>=1.21.1 in /Users/lexx/opt/anaconda3/envs/dev/lib/python3.7/site-packages (from requests>=2.4->streamlit) (1.26.11)\n",
      "Requirement already satisfied: certifi>=2017.4.17 in /Users/lexx/opt/anaconda3/envs/dev/lib/python3.7/site-packages (from requests>=2.4->streamlit) (2022.12.7)\n",
      "Requirement already satisfied: idna<4,>=2.5 in /Users/lexx/opt/anaconda3/envs/dev/lib/python3.7/site-packages (from requests>=2.4->streamlit) (3.3)\n",
      "Requirement already satisfied: pygments<3.0.0,>=2.14.0 in /Users/lexx/opt/anaconda3/envs/dev/lib/python3.7/site-packages (from rich>=10.11.0->streamlit) (2.14.0)\n",
      "Requirement already satisfied: markdown-it-py<3.0.0,>=2.1.0 in /Users/lexx/opt/anaconda3/envs/dev/lib/python3.7/site-packages (from rich>=10.11.0->streamlit) (2.1.0)\n",
      "Requirement already satisfied: pytz-deprecation-shim in /Users/lexx/opt/anaconda3/envs/dev/lib/python3.7/site-packages (from tzlocal>=1.1->streamlit) (0.1.0.post0)\n",
      "Requirement already satisfied: backports.zoneinfo in /Users/lexx/opt/anaconda3/envs/dev/lib/python3.7/site-packages (from tzlocal>=1.1->streamlit) (0.2.1)\n",
      "Requirement already satisfied: decorator>=3.4.0 in /Users/lexx/opt/anaconda3/envs/dev/lib/python3.7/site-packages (from validators>=0.2->streamlit) (5.1.1)\n",
      "Requirement already satisfied: smmap<6,>=3.0.1 in /Users/lexx/opt/anaconda3/envs/dev/lib/python3.7/site-packages (from gitdb<5,>=4.0.1->gitpython!=3.1.19->streamlit) (5.0.0)\n",
      "Requirement already satisfied: MarkupSafe>=0.23 in /Users/lexx/opt/anaconda3/envs/dev/lib/python3.7/site-packages (from jinja2->altair>=3.2.0->streamlit) (2.0.1)\n",
      "Requirement already satisfied: pkgutil-resolve-name>=1.3.10 in /Users/lexx/opt/anaconda3/envs/dev/lib/python3.7/site-packages (from jsonschema>=3.0->altair>=3.2.0->streamlit) (1.3.10)\n",
      "Requirement already satisfied: importlib-resources>=1.4.0 in /Users/lexx/opt/anaconda3/envs/dev/lib/python3.7/site-packages (from jsonschema>=3.0->altair>=3.2.0->streamlit) (5.2.0)\n",
      "Requirement already satisfied: attrs>=17.4.0 in /Users/lexx/opt/anaconda3/envs/dev/lib/python3.7/site-packages (from jsonschema>=3.0->altair>=3.2.0->streamlit) (21.4.0)\n",
      "Requirement already satisfied: pyrsistent!=0.17.0,!=0.17.1,!=0.17.2,>=0.14.0 in /Users/lexx/opt/anaconda3/envs/dev/lib/python3.7/site-packages (from jsonschema>=3.0->altair>=3.2.0->streamlit) (0.18.0)\n",
      "Requirement already satisfied: mdurl~=0.1 in /Users/lexx/opt/anaconda3/envs/dev/lib/python3.7/site-packages (from markdown-it-py<3.0.0,>=2.1.0->rich>=10.11.0->streamlit) (0.1.2)\n",
      "Requirement already satisfied: tzdata in /Users/lexx/opt/anaconda3/envs/dev/lib/python3.7/site-packages (from pytz-deprecation-shim->tzlocal>=1.1->streamlit) (2022.7)\n"
     ]
    }
   ],
   "source": [
    "!pip install streamlit\n",
    "\n"
   ]
  },
  {
   "cell_type": "markdown",
   "id": "87917de1-3c05-4f81-bb05-b687749308a4",
   "metadata": {},
   "source": [
    "## Step 1: Propt the user to customize choice for analysis"
   ]
  },
  {
   "cell_type": "markdown",
   "id": "b75e6011-fc0c-41ab-97eb-30466336ba1e",
   "metadata": {
    "tags": []
   },
   "source": [
    "### 1.1 Prompt the user about how much capital they wish to invest??? Is it needed or we can calculate mean() for each dollar invested ?\n",
    "### !!! Create widget on Streamlit for the prompt!!!"
   ]
  },
  {
   "cell_type": "code",
   "execution_count": null,
   "id": "d8db3c47-5593-4d6e-8f37-ecf5dceb7f7c",
   "metadata": {
    "tags": []
   },
   "outputs": [],
   "source": [
    "#Ask user how much is the allocation for Equity Allocation\n",
    "# Check the input \n",
    "while True:\n",
    "    try:\n",
    "        equity_allocation = float(input('Please enter the amount of capital you wish to invest :'))\n",
    "        break\n",
    "    except:\n",
    "        print('Please enter a numerical value.')\n"
   ]
  },
  {
   "cell_type": "markdown",
   "id": "528c21d2-b7e9-4a2f-aba8-9482899c2ad4",
   "metadata": {
    "tags": []
   },
   "source": [
    "## 1.2 Prompt the user how many years of historical data they wish to pull for the analysis.\n",
    "### !!! Create widget on Streamlit for the prompt!!!"
   ]
  },
  {
   "cell_type": "code",
   "execution_count": null,
   "id": "c810bbb0-05bf-40bf-bca8-a16aa2fca7eb",
   "metadata": {},
   "outputs": [],
   "source": [
    "# Prompt the user how many years of historical data they wish to pull for the analysis\n",
    "# Check the input \n",
    "while True:\n",
    "    try:\n",
    "        num_years = int(input('Please enter the number of years (1-10) of historical data that you wish to retrieve for the analysis :'))\n",
    "        break\n",
    "    except:\n",
    "        print('Please enter a numerical value.')\n"
   ]
  },
  {
   "cell_type": "markdown",
   "id": "316f9567-4273-4aed-bbb1-df05263bcc13",
   "metadata": {
    "jp-MarkdownHeadingCollapsed": true,
    "tags": []
   },
   "source": [
    "## 1.3 Prompt the user to select assets from each asset class.\n",
    "### ??? Does the number of assets in each asset class should be the same for correct analysis???\n",
    "\n",
    "### !!! Create widget on Streamlit for the prompt!!!"
   ]
  },
  {
   "cell_type": "markdown",
   "id": "3fa97ba9-8084-4dd9-8612-63d36238f022",
   "metadata": {},
   "source": [
    "## Step 2 : \n",
    "### Data Collection and Cleaning\n",
    "The first step is to collect data for the 3 different assets - crypto, commodities, and stocks. Using **yfinance** library for Pandas pull data from the Yahoo finance API. The data pulled for each asset class would have 10 tickers. Store the data for each asset class in separate Pandas DataFrames."
   ]
  },
  {
   "cell_type": "code",
   "execution_count": null,
   "id": "a20bccb7-c901-4f07-9582-573c7df39ee7",
   "metadata": {},
   "outputs": [],
   "source": [
    "# Define the lists of asset classes and their respective tickers. Set it as variables, so the selection can be changed easier if neded. \n",
    "### VARIATION 1\n",
    "# crypto = ['BTC-USD', 'ETH-USD', 'DOGE-USD', 'MATIC-USD', 'AVAX-USD', 'SOL-USD', 'TRX-USD', 'ATOM-USD', 'UNI7083-USD', 'LINK-USD']\n",
    "# stocks = ['AMZN', 'AAPL', 'TSLA', 'GOOGL', 'NVDA', 'MSFT', 'TSM', 'META','XOM', 'LAC']\n",
    "# commodities = ['GC=F', 'SI=F', 'CL=F', 'HG=F', 'LBS=F', 'ZS=F', 'GF=F', 'KE=F', 'CT=F', 'ZR=F']\n",
    "\n",
    "# # Collect data for crypto asset class\n",
    "# crypto_df = pd.DataFrame()\n",
    "# for ticker in crypto:\n",
    "#     crypto_df[ticker] = yf.download(ticker)['Close']\n",
    "\n",
    "# # Collect data for stocks asset class\n",
    "# stocks_df = pd.DataFrame()\n",
    "# for ticker in stocks:\n",
    "#     stocks_df[ticker] = yf.download(ticker)['Close']\n",
    "\n",
    "# # Collect data for commodities asset class\n",
    "# commodities_df = pd.DataFrame()\n",
    "# for ticker in commodities:\n",
    "#     commodities_df[ticker] = yf.download(ticker)['Close']\n"
   ]
  },
  {
   "cell_type": "code",
   "execution_count": null,
   "id": "1ac270cd-0a5e-411f-9ef9-7a54fd40c31e",
   "metadata": {},
   "outputs": [],
   "source": [
    "# crypto_df.head(200)\n",
    "# The problem with crypto historic data is taht diferent start times of the data(begining of the trading period is diffferent for each crypto)  "
   ]
  },
  {
   "cell_type": "code",
   "execution_count": null,
   "id": "8d106630-1e26-4051-8033-b52d9dd62634",
   "metadata": {},
   "outputs": [],
   "source": [
    "### VARIATION 2\n",
    "# Define the a dictionary of lists for each asset class\n",
    "# api_pull = {'crypto' : ['BTC-USD', 'ETH-USD', 'DOGE-USD', 'MATIC-USD', 'AVAX-USD', 'SOL-USD', 'TRX-USD', 'ATOM-USD', 'UNI7083-USD', 'LINK-USD']\n",
    "#             ,'stocks' : ['AMZN', 'AAPL', 'TSLA', 'GOOGL', 'NVDA', 'MSFT', 'TSM', 'META','XOM', 'LAC']\n",
    "#             ,'commodities' : ['GC=F', 'SI=F', 'CL=F', 'HG=F', 'LBS=F', 'ZS=F', 'GF=F', 'KE=F', 'CT=F', 'ZR=F']\n",
    "           \n",
    "#            }\n",
    "\n",
    "# # Store data for each asset class in a dictionary\n",
    "# data = {}\n",
    "# for asset_class in api_pull:\n",
    "#     for ticker in api_pull[asset_class]:\n",
    "#         data[asset] = pd.DataFrame(yf.download(asset, start='2010-01-10', end ='2023-01-01'))\n",
    "\n",
    "            "
   ]
  },
  {
   "cell_type": "code",
   "execution_count": null,
   "id": "9cdfaf9e-81eb-49f6-9688-3ea098285473",
   "metadata": {},
   "outputs": [],
   "source": [
    "# VARIATION 3\n",
    "# Define the lists of asset classes and their respective tickers. Set it as variables, so the selection can be changed easier if neded.\n",
    "api_pull = {'crypto' : ['BTC-USD', 'ETH-USD', 'DOGE-USD', 'MATIC-USD', 'AVAX-USD', 'SOL-USD', 'TRX-USD', 'ATOM-USD', 'UNI7083-USD', 'LINK-USD'],\n",
    "            'stocks' : ['AMZN', 'AAPL', 'TSLA', 'GOOGL', 'NVDA', 'MSFT', 'TSM', 'META','XOM', 'LAC'],\n",
    "            'commodities' : ['GC=F', 'SI=F', 'CL=F', 'HG=F', 'LBS=F', 'ZS=F', 'GF=F', 'KE=F', 'CT=F', 'ZR=F']}\n",
    "\n",
    "# Store data for each asset class in a dictionary\n",
    "# Use .items()to iterate over the key-value pairs of the api_pull dictionary\n",
    "# pull data for the number of years requested by the user\n",
    "data = {}\n",
    "for asset_class, tickers in api_pull.items():\n",
    "    data[asset_class] = {}\n",
    "    for ticker in tickers:\n",
    "        data[asset_class][ticker] = yf.Ticker(ticker).history(period=f\"{num_years}y\")\n"
   ]
  },
  {
   "cell_type": "code",
   "execution_count": null,
   "id": "2794f6e7-6ec1-43f0-ae3e-507664fcc3f2",
   "metadata": {},
   "outputs": [],
   "source": [
    "# Review pulled data:\n",
    "data "
   ]
  },
  {
   "cell_type": "code",
   "execution_count": null,
   "id": "573e2397-c479-443e-bd91-4c8a3ddd29b4",
   "metadata": {},
   "outputs": [],
   "source": [
    "# Create a data frame for each asset class with the close column\n",
    "# Access the 'Close' column of the data for each asset class\n",
    "# Extract the values of the data dictionary and then access the 'Close' column of each dataframe.\n",
    "df_crypto = pd.DataFrame({ticker: data['crypto'][ticker]['Close'] for ticker in api_pull['crypto']})\n",
    "df_stocks = pd.DataFrame({ticker: data['stocks'][ticker]['Close'] for ticker in api_pull['stocks']})\n",
    "df_commodities = pd.DataFrame({ticker: data['commodities'][ticker]['Close'] for ticker in api_pull['commodities']})\n"
   ]
  },
  {
   "cell_type": "code",
   "execution_count": null,
   "id": "4dd12773-a056-4d97-9a40-cf6cb4d937a5",
   "metadata": {},
   "outputs": [],
   "source": [
    "# Replace all the NaN values in a data frame using the fillna() method. Create a copy of the data frames.\n",
    "df_crypto = df_crypto.fillna(0).copy()\n",
    "df_stocks = df_stocks.fillna(0).copy()\n",
    "df_commodities = df_commodities.fillna(0).copy()"
   ]
  },
  {
   "cell_type": "code",
   "execution_count": null,
   "id": "e45a55de-d3b9-4b6a-9981-6316e0721f9d",
   "metadata": {},
   "outputs": [],
   "source": [
    "# Review first and last 10 rows for crypto assets class\n",
    "display(df_crypto.head(10))\n",
    "df_crypto.tail(10)\n",
    "\n"
   ]
  },
  {
   "cell_type": "code",
   "execution_count": null,
   "id": "0f86d962-31e9-4852-b5d6-1b4ebfa7cc94",
   "metadata": {},
   "outputs": [],
   "source": []
  },
  {
   "cell_type": "code",
   "execution_count": null,
   "id": "44336544-0a13-4642-a659-1b62e3a589e6",
   "metadata": {},
   "outputs": [],
   "source": [
    "# Review first and last 10 rows for stocks assets class\n",
    "display(df_stocks.head(10))\n",
    "df_stocks.tail(10)"
   ]
  },
  {
   "cell_type": "code",
   "execution_count": null,
   "id": "27ee43c5-0893-4bed-861a-18d9896cdb12",
   "metadata": {},
   "outputs": [],
   "source": [
    "# Review first and last 10 rows for commodities assets class\n",
    "display(df_commodities.head(10))\n",
    "df_commodities.tail(10)"
   ]
  },
  {
   "cell_type": "markdown",
   "id": "b710eb83-1707-4773-b5f5-00f8b92b1eb3",
   "metadata": {
    "tags": []
   },
   "source": [
    "## Step 3 : \n",
    "### Prepare data ready for the Monte Carlo simulation\n",
    "### ??? Should we prompt user to enter the number of simulations for the model ???\n",
    "### !!! Keep in mind that for 'stocks' and 'comodities' trading_days = 252, but for 'crypto' trading_days = 365.!!!"
   ]
  },
  {
   "cell_type": "code",
   "execution_count": null,
   "id": "d5602a5a-2edc-4d4e-8f75-d7548c387ca3",
   "metadata": {},
   "outputs": [],
   "source": [
    "## Prepare the data for Monte Carlo simulation\n",
    "returns = portfolio_data.pct_change() #Calculate returns for each asset\n",
    "mean_return = returns.mean()\n",
    "cov_matrix = returns.cov()"
   ]
  },
  {
   "cell_type": "code",
   "execution_count": null,
   "id": "9220e6f4-d416-4c65-af17-c6877b156a9c",
   "metadata": {},
   "outputs": [],
   "source": [
    "# Set the number of simulations and trading days\n",
    "num_simulations = 1000\n",
    "stocks_n_comodities_num_trading_days = 252\n",
    "crypto_num_trading_days = 365"
   ]
  },
  {
   "cell_type": "code",
   "execution_count": null,
   "id": "15c9779f-eaaa-431b-9d27-b7e5c870cbe1",
   "metadata": {},
   "outputs": [],
   "source": []
  },
  {
   "cell_type": "markdown",
   "id": "3387aaa6-fc91-4140-811f-11831ddbbd8f",
   "metadata": {},
   "source": [
    "## Step 4 : \n",
    "### Plot an overlay of the closing prices for each asset class (10 assetset each)\n",
    "### ??? Plot the returns ???\n"
   ]
  },
  {
   "cell_type": "code",
   "execution_count": null,
   "id": "95712634-5eaf-4289-aac2-ae964f0254bc",
   "metadata": {},
   "outputs": [],
   "source": []
  },
  {
   "cell_type": "code",
   "execution_count": null,
   "id": "42268f82-d093-44a2-a1b1-92b6f4b2b984",
   "metadata": {},
   "outputs": [],
   "source": []
  },
  {
   "cell_type": "code",
   "execution_count": null,
   "id": "370172d1-56fa-4fd0-97f6-1ad0695f295a",
   "metadata": {},
   "outputs": [],
   "source": []
  },
  {
   "cell_type": "code",
   "execution_count": null,
   "id": "235c072c-39e8-437e-bf05-37421505595c",
   "metadata": {},
   "outputs": [],
   "source": []
  },
  {
   "cell_type": "code",
   "execution_count": null,
   "id": "f5a477cf-d2e8-4878-9cf5-525d2272eb4c",
   "metadata": {},
   "outputs": [],
   "source": []
  },
  {
   "cell_type": "code",
   "execution_count": null,
   "id": "883cee95-ef41-4eea-ab6c-4b0244442257",
   "metadata": {},
   "outputs": [],
   "source": []
  },
  {
   "cell_type": "code",
   "execution_count": null,
   "id": "394c2359-fded-4758-b38b-3f13b4fc64d3",
   "metadata": {},
   "outputs": [],
   "source": []
  },
  {
   "cell_type": "code",
   "execution_count": null,
   "id": "854396f7-1570-4239-bd16-2641e92cca7a",
   "metadata": {},
   "outputs": [],
   "source": []
  },
  {
   "cell_type": "code",
   "execution_count": null,
   "id": "904963dd-1c4f-453a-b138-9e494429f4dd",
   "metadata": {},
   "outputs": [],
   "source": []
  },
  {
   "cell_type": "code",
   "execution_count": null,
   "id": "5976bc3b-83ca-4f6f-8b16-b9d69f0eb03b",
   "metadata": {},
   "outputs": [],
   "source": []
  },
  {
   "cell_type": "code",
   "execution_count": null,
   "id": "6adbdc51-4f78-40bc-ae47-60727f416d8a",
   "metadata": {},
   "outputs": [],
   "source": []
  },
  {
   "cell_type": "code",
   "execution_count": null,
   "id": "c9e5ff15-603a-439c-93c1-dc831f1a97b0",
   "metadata": {},
   "outputs": [],
   "source": []
  },
  {
   "cell_type": "code",
   "execution_count": null,
   "id": "bf01c0ce-5520-4dce-9468-0aea342cea73",
   "metadata": {},
   "outputs": [],
   "source": [
    "\n",
    "# Limit the number of securities for each alloocation( depends on the data fed)\n",
    "\n",
    "# Get combination of alocated assets and weighting \n",
    "# Use KMeans algorithm for clustering \n",
    "#from sklearn.cluster import KMeans\n",
    "#import numpy as np\n",
    "\n",
    "\n",
    "\n",
    "\n"
   ]
  },
  {
   "cell_type": "code",
   "execution_count": null,
   "id": "cc0f52e9-91c7-4a99-9432-85ab1f9d0f17",
   "metadata": {},
   "outputs": [],
   "source": []
  },
  {
   "cell_type": "code",
   "execution_count": null,
   "id": "d0b0f829-37bb-4eca-b31d-1ee02252a654",
   "metadata": {},
   "outputs": [],
   "source": []
  },
  {
   "cell_type": "code",
   "execution_count": null,
   "id": "2e73bd2b-8cfa-41df-b60b-84374676e43b",
   "metadata": {},
   "outputs": [],
   "source": []
  },
  {
   "cell_type": "code",
   "execution_count": null,
   "id": "651d62f0-940e-44be-9be8-30c611e1ed53",
   "metadata": {},
   "outputs": [],
   "source": []
  },
  {
   "cell_type": "code",
   "execution_count": null,
   "id": "76f003d5-91d5-4e9e-a56d-4aa02f65bf13",
   "metadata": {},
   "outputs": [],
   "source": []
  },
  {
   "cell_type": "code",
   "execution_count": null,
   "id": "9cd8388c-865b-45ed-aa01-4395f20f2c77",
   "metadata": {},
   "outputs": [],
   "source": []
  },
  {
   "cell_type": "code",
   "execution_count": null,
   "id": "8f871feb-5ada-4d4f-b927-3ddbd8b92b87",
   "metadata": {},
   "outputs": [],
   "source": [
    "\n"
   ]
  },
  {
   "cell_type": "code",
   "execution_count": null,
   "id": "21fad268-08b2-4d60-b2ee-74f7ff712f0c",
   "metadata": {},
   "outputs": [],
   "source": []
  },
  {
   "cell_type": "code",
   "execution_count": null,
   "id": "f083dedb-3c0a-432e-bafb-664538ec4633",
   "metadata": {},
   "outputs": [],
   "source": [
    "#Data from 3 assets with their weight amounts\n",
    "#Limit each equity t0 allocate 10 items \n",
    "assets = {'equity':range(0,equity_alloc,10),'commodity':range(0,commodity_alloc,10),'crypto':range(0,crypto_alloc,10)}\n",
    "\n",
    "\n"
   ]
  },
  {
   "cell_type": "code",
   "execution_count": null,
   "id": "ea921ca0-ef6c-4950-8bbc-b91e195542e2",
   "metadata": {},
   "outputs": [],
   "source": [
    "#Allowing only 3 cluster of assets \n",
    "kmeans = KMeans(n_clusters=3)\n",
    "\n"
   ]
  },
  {
   "cell_type": "code",
   "execution_count": null,
   "id": "7337ea40-8681-4e24-83c4-a03c238bc381",
   "metadata": {},
   "outputs": [],
   "source": [
    "#Fit the model to the asset data \n",
    "kmeans.fit(assets)\n",
    "\n"
   ]
  },
  {
   "cell_type": "code",
   "execution_count": null,
   "id": "29f8f8ed-aad3-4fe8-b5f0-6071d934a30f",
   "metadata": {},
   "outputs": [],
   "source": [
    "# Plot vizualization fort the clusters "
   ]
  },
  {
   "cell_type": "code",
   "execution_count": null,
   "id": "0b50abff-713c-4719-8931-ceac1d329f2b",
   "metadata": {},
   "outputs": [],
   "source": []
  },
  {
   "cell_type": "markdown",
   "id": "f3a1efc2-cebc-4c63-a90d-26076373f871",
   "metadata": {},
   "source": [
    "#### For streamlit install pip install streamlit==0.62.0\n",
    "### there is a problem problem was related to Python version.that pyarrow is a requirement in streamlit version 0.63.0. So you can use pip install streamlit==0.62.0 and it will work just fine"
   ]
  },
  {
   "cell_type": "code",
   "execution_count": null,
   "id": "08b9f2f9-dab3-45ca-bf48-c06370360c12",
   "metadata": {},
   "outputs": [],
   "source": []
  }
 ],
 "metadata": {
  "kernelspec": {
   "display_name": "Python (dev)",
   "language": "python",
   "name": "dev"
  },
  "language_info": {
   "codemirror_mode": {
    "name": "ipython",
    "version": 3
   },
   "file_extension": ".py",
   "mimetype": "text/x-python",
   "name": "python",
   "nbconvert_exporter": "python",
   "pygments_lexer": "ipython3",
   "version": "3.7.13"
  }
 },
 "nbformat": 4,
 "nbformat_minor": 5
}
